{
 "cells": [
  {
   "cell_type": "markdown",
   "metadata": {},
   "source": [
    "#### Initial Twitter analysis of DT and HC tweets during elections in hunt for adjectives use.\n",
    "\n",
    "It's just first analysis, opening for 100 analysis challange.\n",
    "Just getting started, keep watching the progress.\n",
    "\n",
    "This is a bit basic, just:\n",
    "- getting data from CSC\n",
    "- a bit cleaning with lambdas, re and pandas\n",
    "- stemming\n",
    "- Spacy tokenizing for getting ADJECTIVES out of tweers\n",
    "- Value counts\n",
    "- Averages, proportion\n",
    "- Horrible ugly plot at the end :)\n"
   ]
  },
  {
   "cell_type": "code",
   "execution_count": 80,
   "metadata": {},
   "outputs": [],
   "source": [
    "import pandas as pd\n",
    "import re\n",
    "import nltk\n",
    "from nltk.tokenize.toktok import ToktokTokenizer\n",
    "import re\n",
    "import spacy\n",
    "\n",
    "nlp = spacy.load('en_core_web_sm')"
   ]
  },
  {
   "cell_type": "code",
   "execution_count": 74,
   "metadata": {},
   "outputs": [
    {
     "data": {
      "text/html": [
       "<div>\n",
       "<style scoped>\n",
       "    .dataframe tbody tr th:only-of-type {\n",
       "        vertical-align: middle;\n",
       "    }\n",
       "\n",
       "    .dataframe tbody tr th {\n",
       "        vertical-align: top;\n",
       "    }\n",
       "\n",
       "    .dataframe thead th {\n",
       "        text-align: right;\n",
       "    }\n",
       "</style>\n",
       "<table border=\"1\" class=\"dataframe\">\n",
       "  <thead>\n",
       "    <tr style=\"text-align: right;\">\n",
       "      <th></th>\n",
       "      <th>id</th>\n",
       "      <th>handle</th>\n",
       "      <th>text</th>\n",
       "      <th>is_retweet</th>\n",
       "      <th>original_author</th>\n",
       "      <th>time</th>\n",
       "      <th>in_reply_to_screen_name</th>\n",
       "      <th>in_reply_to_status_id</th>\n",
       "      <th>in_reply_to_user_id</th>\n",
       "      <th>is_quote_status</th>\n",
       "      <th>...</th>\n",
       "      <th>place_type</th>\n",
       "      <th>place_country_code</th>\n",
       "      <th>place_country</th>\n",
       "      <th>place_contained_within</th>\n",
       "      <th>place_attributes</th>\n",
       "      <th>place_bounding_box</th>\n",
       "      <th>source_url</th>\n",
       "      <th>truncated</th>\n",
       "      <th>entities</th>\n",
       "      <th>extended_entities</th>\n",
       "    </tr>\n",
       "  </thead>\n",
       "  <tbody>\n",
       "    <tr>\n",
       "      <th>0</th>\n",
       "      <td>780925634159796224</td>\n",
       "      <td>HillaryClinton</td>\n",
       "      <td>The question in this election: Who can put the...</td>\n",
       "      <td>False</td>\n",
       "      <td>NaN</td>\n",
       "      <td>2016-09-28T00:22:34</td>\n",
       "      <td>NaN</td>\n",
       "      <td>NaN</td>\n",
       "      <td>NaN</td>\n",
       "      <td>False</td>\n",
       "      <td>...</td>\n",
       "      <td>NaN</td>\n",
       "      <td>NaN</td>\n",
       "      <td>NaN</td>\n",
       "      <td>NaN</td>\n",
       "      <td>NaN</td>\n",
       "      <td>NaN</td>\n",
       "      <td>https://studio.twitter.com</td>\n",
       "      <td>False</td>\n",
       "      <td>{'media': [{'display_url': 'pic.twitter.com/Xr...</td>\n",
       "      <td>{'media': [{'display_url': 'pic.twitter.com/Xr...</td>\n",
       "    </tr>\n",
       "  </tbody>\n",
       "</table>\n",
       "<p>1 rows × 28 columns</p>\n",
       "</div>"
      ],
      "text/plain": [
       "                   id          handle  \\\n",
       "0  780925634159796224  HillaryClinton   \n",
       "\n",
       "                                                text  is_retweet  \\\n",
       "0  The question in this election: Who can put the...       False   \n",
       "\n",
       "  original_author                 time in_reply_to_screen_name  \\\n",
       "0             NaN  2016-09-28T00:22:34                     NaN   \n",
       "\n",
       "   in_reply_to_status_id  in_reply_to_user_id  is_quote_status  \\\n",
       "0                    NaN                  NaN            False   \n",
       "\n",
       "                         ...                         place_type  \\\n",
       "0                        ...                                NaN   \n",
       "\n",
       "   place_country_code  place_country  place_contained_within  \\\n",
       "0                 NaN            NaN                     NaN   \n",
       "\n",
       "   place_attributes place_bounding_box                  source_url truncated  \\\n",
       "0               NaN                NaN  https://studio.twitter.com     False   \n",
       "\n",
       "                                            entities  \\\n",
       "0  {'media': [{'display_url': 'pic.twitter.com/Xr...   \n",
       "\n",
       "                                   extended_entities  \n",
       "0  {'media': [{'display_url': 'pic.twitter.com/Xr...  \n",
       "\n",
       "[1 rows x 28 columns]"
      ]
     },
     "execution_count": 74,
     "metadata": {},
     "output_type": "execute_result"
    }
   ],
   "source": [
    "# Get tweets from CSV\n",
    "tdb = pd.read_csv('thhk.csv') # 6k+ Hillary and Donald tweets available online\n",
    "tdb.head(1)"
   ]
  },
  {
   "cell_type": "code",
   "execution_count": 76,
   "metadata": {},
   "outputs": [
    {
     "data": {
      "text/plain": [
       "0    The question in this election: Who can put the...\n",
       "1    Last night, Donald Trump said not paying taxes...\n",
       "2    Couldn't be more proud of Her vision and comma...\n",
       "3    If we stand together, there's nothing we can't...\n",
       "4    Both candidates were asked about how they'd co...\n",
       "5    Join me for a 3pm rally - tomorrow at the Mid-...\n",
       "6    This election is too important to sit out. Go ...\n",
       "7       When Donald Trump goes low...register to vote:\n",
       "8    Once again, we will have a government of, by a...\n",
       "9    3) Has Trump offered a single proposal to redu...\n",
       "Name: ok, dtype: object"
      ]
     },
     "execution_count": 76,
     "metadata": {},
     "output_type": "execute_result"
    }
   ],
   "source": [
    "# Get tweet text without hashtags and links\n",
    "tdb['spl'] = tdb['text'].str.split(' ')\n",
    "\n",
    "tdb['ok'] = tdb['spl'].apply(lambda x: [word for word in x if not '@' in word])\n",
    "tdb['ok'] = tdb['ok'].apply(lambda x: [word for word in x if not '#' in word])\n",
    "tdb['ok'] = tdb['ok'].apply(lambda x: [word for word in x if not 'http' in word])\n",
    "tdb['ok'] = tdb['ok'].str.join(' ')\n",
    "\n",
    "# But save them\n",
    "for s in ['@', '#', 'http']:\n",
    "    tdb[s] = tdb['spl'].apply(lambda x: [word for word in x if s in word])\n",
    "    \n",
    "tdb['ok'].head(10)"
   ]
  },
  {
   "cell_type": "code",
   "execution_count": 77,
   "metadata": {},
   "outputs": [
    {
     "name": "stdout",
     "output_type": "stream",
     "text": [
      "128 A Clinton economy  more taxes and more spending\n",
      "129 has been part of the rigged DC system for 30 years Why would we take policy advice from her\n"
     ]
    }
   ],
   "source": [
    "# Clean string\n",
    "def clean_string(text):\n",
    "    return re.sub(r'[^a-zA-z0-9\\s]', '', text)\n",
    "\n",
    "# Update ok and split\n",
    "tdb['ok'] = tdb['ok'].apply(lambda x: clean_string(x))\n",
    "tdb['spl'] = tdb['ok'].str.split(' ')\n",
    "\n",
    "for i, t in enumerate(tdb['ok'].tolist()):\n",
    "    if i in range(128, 130):\n",
    "        print(i,t)"
   ]
  },
  {
   "cell_type": "code",
   "execution_count": 79,
   "metadata": {},
   "outputs": [
    {
     "name": "stdout",
     "output_type": "stream",
     "text": [
      "128 A clinton economi more tax and more spend\n",
      "129 ha been part of the rig DC system for 30 year whi would we take polici advic from her\n"
     ]
    }
   ],
   "source": [
    "# Stem words\n",
    "def porter_stemmer(text):\n",
    "    ps = nltk.porter.PorterStemmer()\n",
    "    return ' '.join([ps.stem(word) for word in text.split()])\n",
    "\n",
    "tdb['stemmed'] = tdb['ok'].apply(lambda x: porter_stemmer(x))\n",
    "\n",
    "for i, t in enumerate(tdb['stemmed'].tolist()):\n",
    "    if i in range(128, 130):\n",
    "        print(i,t)"
   ]
  },
  {
   "cell_type": "code",
   "execution_count": 81,
   "metadata": {},
   "outputs": [
    {
     "data": {
      "text/html": [
       "<div>\n",
       "<style scoped>\n",
       "    .dataframe tbody tr th:only-of-type {\n",
       "        vertical-align: middle;\n",
       "    }\n",
       "\n",
       "    .dataframe tbody tr th {\n",
       "        vertical-align: top;\n",
       "    }\n",
       "\n",
       "    .dataframe thead th {\n",
       "        text-align: right;\n",
       "    }\n",
       "</style>\n",
       "<table border=\"1\" class=\"dataframe\">\n",
       "  <thead>\n",
       "    <tr style=\"text-align: right;\">\n",
       "      <th></th>\n",
       "      <th>pos</th>\n",
       "    </tr>\n",
       "  </thead>\n",
       "  <tbody>\n",
       "    <tr>\n",
       "      <th>0</th>\n",
       "      <td>DET NOUN ADP DET NOUN NOUN VERB VERB DET NOUN ...</td>\n",
       "    </tr>\n",
       "    <tr>\n",
       "      <th>1</th>\n",
       "      <td>ADJ NOUN PROPN PROPN VERB ADV VERB NOUN VERB A...</td>\n",
       "    </tr>\n",
       "    <tr>\n",
       "      <th>2</th>\n",
       "      <td>VERB ADV VERB ADV ADJ ADP ADJ NOUN CCONJ NOUN ...</td>\n",
       "    </tr>\n",
       "    <tr>\n",
       "      <th>3</th>\n",
       "      <td>ADP PRON VERB ADV ADV VERB NOUN PRON VERB ADV ...</td>\n",
       "    </tr>\n",
       "    <tr>\n",
       "      <th>4</th>\n",
       "      <td>DET NOUN VERB VERB ADP ADV PRON VERB VERB ADJ ...</td>\n",
       "    </tr>\n",
       "    <tr>\n",
       "      <th>5</th>\n",
       "      <td>VERB PRON ADP DET NUM NOUN NOUN SPACE NOUN ADP...</td>\n",
       "    </tr>\n",
       "    <tr>\n",
       "      <th>6</th>\n",
       "      <td>DET NOUN VERB ADV ADJ PART VERB PART VERB ADP ...</td>\n",
       "    </tr>\n",
       "    <tr>\n",
       "      <th>7</th>\n",
       "      <td>ADV PROPN PROPN VERB VERB PART VERB</td>\n",
       "    </tr>\n",
       "    <tr>\n",
       "      <th>8</th>\n",
       "      <td>ADV ADV PRON VERB VERB DET NOUN ADP ADP CCONJ ...</td>\n",
       "    </tr>\n",
       "    <tr>\n",
       "      <th>9</th>\n",
       "      <td>PUNCT VERB PROPN VERB DET ADJ NOUN PART VERB D...</td>\n",
       "    </tr>\n",
       "    <tr>\n",
       "      <th>10</th>\n",
       "      <td>DET NOUN VERB ADV NOUN ADV VERB ADP PRON VERB ...</td>\n",
       "    </tr>\n",
       "    <tr>\n",
       "      <th>11</th>\n",
       "      <td>ADP PROPN VERB ADJ PRON VERB VERB PART VERB AD...</td>\n",
       "    </tr>\n",
       "    <tr>\n",
       "      <th>12</th>\n",
       "      <td>PROPN PROPN PROPN VERB PART VERB ADJ PROPN ADP...</td>\n",
       "    </tr>\n",
       "    <tr>\n",
       "      <th>13</th>\n",
       "      <td>PROPN PROPN NOUN ADJ NOUN VERB PROPN PROPN VER...</td>\n",
       "    </tr>\n",
       "    <tr>\n",
       "      <th>14</th>\n",
       "      <td>PROPN PROPN VERB ADP DET ADJ NOUN ADP ADJ NUM ...</td>\n",
       "    </tr>\n",
       "    <tr>\n",
       "      <th>15</th>\n",
       "      <td>ADJ NOUN ADP PROPN PROPN ADP ADJ NOUN NOUN VER...</td>\n",
       "    </tr>\n",
       "    <tr>\n",
       "      <th>16</th>\n",
       "      <td>ADP DET ADJ NUM NOUN PRON VERB VERB ADP NUM NO...</td>\n",
       "    </tr>\n",
       "    <tr>\n",
       "      <th>17</th>\n",
       "      <td>PRON VERB ADV NUM NOUN NOUN NOUN PRON VERB ADP...</td>\n",
       "    </tr>\n",
       "    <tr>\n",
       "      <th>18</th>\n",
       "      <td>ADJ NOUN ADP VERB PART VERB</td>\n",
       "    </tr>\n",
       "    <tr>\n",
       "      <th>19</th>\n",
       "      <td>PRON VERB DET NOUN SPACE PRON VERB ADJ ADP DET...</td>\n",
       "    </tr>\n",
       "  </tbody>\n",
       "</table>\n",
       "</div>"
      ],
      "text/plain": [
       "                                                  pos\n",
       "0   DET NOUN ADP DET NOUN NOUN VERB VERB DET NOUN ...\n",
       "1   ADJ NOUN PROPN PROPN VERB ADV VERB NOUN VERB A...\n",
       "2   VERB ADV VERB ADV ADJ ADP ADJ NOUN CCONJ NOUN ...\n",
       "3   ADP PRON VERB ADV ADV VERB NOUN PRON VERB ADV ...\n",
       "4   DET NOUN VERB VERB ADP ADV PRON VERB VERB ADJ ...\n",
       "5   VERB PRON ADP DET NUM NOUN NOUN SPACE NOUN ADP...\n",
       "6   DET NOUN VERB ADV ADJ PART VERB PART VERB ADP ...\n",
       "7                 ADV PROPN PROPN VERB VERB PART VERB\n",
       "8   ADV ADV PRON VERB VERB DET NOUN ADP ADP CCONJ ...\n",
       "9   PUNCT VERB PROPN VERB DET ADJ NOUN PART VERB D...\n",
       "10  DET NOUN VERB ADV NOUN ADV VERB ADP PRON VERB ...\n",
       "11  ADP PROPN VERB ADJ PRON VERB VERB PART VERB AD...\n",
       "12  PROPN PROPN PROPN VERB PART VERB ADJ PROPN ADP...\n",
       "13  PROPN PROPN NOUN ADJ NOUN VERB PROPN PROPN VER...\n",
       "14  PROPN PROPN VERB ADP DET ADJ NOUN ADP ADJ NUM ...\n",
       "15  ADJ NOUN ADP PROPN PROPN ADP ADJ NOUN NOUN VER...\n",
       "16  ADP DET ADJ NUM NOUN PRON VERB VERB ADP NUM NO...\n",
       "17  PRON VERB ADV NUM NOUN NOUN NOUN PRON VERB ADP...\n",
       "18                        ADJ NOUN ADP VERB PART VERB\n",
       "19  PRON VERB DET NOUN SPACE PRON VERB ADJ ADP DET..."
      ]
     },
     "execution_count": 81,
     "metadata": {},
     "output_type": "execute_result"
    }
   ],
   "source": [
    "def get_Spacy_tags_for(pd_column):\n",
    "    pos = []\n",
    "    for doc in nlp.pipe(pd_column.astype('unicode').values, batch_size=50, n_threads=4):\n",
    "        if doc.is_parsed:\n",
    "            pos_seq = \" \".join([n.pos_ for n in doc])\n",
    "            pos.append(pos_seq)\n",
    "        else:\n",
    "            pos.append(None)\n",
    "    return pos\n",
    "\n",
    "# get part of speech for each word in each tweet\n",
    "pd_column = tdb['ok']\n",
    "tdb['pos'] = get_Spacy_tags_for(pd_column)\n",
    "\n",
    "tdb.loc[:,['pos']].head(20)"
   ]
  },
  {
   "cell_type": "code",
   "execution_count": 82,
   "metadata": {},
   "outputs": [
    {
     "data": {
      "text/plain": [
       "0    2\n",
       "1    3\n",
       "2    6\n",
       "3    2\n",
       "4    2\n",
       "5    0\n",
       "6    2\n",
       "7    0\n",
       "8    0\n",
       "9    1\n",
       "Name: ADJcnt, dtype: int64"
      ]
     },
     "execution_count": 82,
     "metadata": {},
     "output_type": "execute_result"
    }
   ],
   "source": [
    "# Count adjectives in each tweet according to POS model\n",
    "tdb['ADJcnt'] = tdb['pos'].str.count('ADJ')\n",
    "tdb['ADJcnt'].head(10)"
   ]
  },
  {
   "cell_type": "code",
   "execution_count": 96,
   "metadata": {},
   "outputs": [
    {
     "name": "stdout",
     "output_type": "stream",
     "text": [
      "Hillary tweets: 3226,  Adjectives: 5278, Per-Tweet: 1.6360818350898947\n",
      "Donald  tweets: 3218,  Adjectives: 4862, Per-Tweet: 1.5108763206960845\n"
     ]
    }
   ],
   "source": [
    "# Separate dataset into Donald and Hillary:\n",
    "HillaryTweets = tdb[tdb['handle'].str.contains(\"Hillary\")]\n",
    "DonaldTweets = tdb[tdb['handle'].str.contains(\"Donald\")]\n",
    "\n",
    "# and count\n",
    "for tweets in [[HillaryTweets,\"Hillary\"], [DonaldTweets, \"Donald\"]]:\n",
    "    twts_nr = len(tweets[0])\n",
    "    adj_sum = tweets[0]['ADJcnt'].sum()\n",
    "    adj_ratio = adj_sum / twts_nr\n",
    "    print(\"{:7} tweets: {},  Adjectives: {}, Per-Tweet: {}\".format(tweets[1], twts_nr, adj_sum, adj_ratio))\n"
   ]
  },
  {
   "cell_type": "code",
   "execution_count": 112,
   "metadata": {},
   "outputs": [
    {
     "data": {
      "text/plain": [
       "0    1019\n",
       "1     770\n",
       "2     663\n",
       "3     443\n",
       "4     211\n",
       "5      82\n",
       "6      27\n",
       "7       3\n",
       "Name: ADJcnt, dtype: int64"
      ]
     },
     "metadata": {},
     "output_type": "display_data"
    },
    {
     "data": {
      "text/plain": [
       "1    1013\n",
       "2     805\n",
       "0     662\n",
       "3     461\n",
       "4     193\n",
       "5      61\n",
       "6      25\n",
       "7       4\n",
       "9       1\n",
       "8       1\n",
       "Name: ADJcnt, dtype: int64"
      ]
     },
     "metadata": {},
     "output_type": "display_data"
    }
   ],
   "source": [
    "# Value counts\n",
    "display(DonaldTweets['ADJcnt'].value_counts())\n",
    "display(HillaryTweets['ADJcnt'].value_counts())"
   ]
  },
  {
   "cell_type": "code",
   "execution_count": 113,
   "metadata": {},
   "outputs": [
    {
     "data": {
      "text/plain": [
       "<matplotlib.axes._subplots.AxesSubplot at 0x1e013c10>"
      ]
     },
     "metadata": {},
     "output_type": "display_data"
    },
    {
     "data": {
      "image/png": "[encoded data removed]",
      "text/plain": [
       "<Figure size 432x288 with 1 Axes>"
      ]
     },
     "metadata": {
      "needs_background": "light"
     },
     "output_type": "display_data"
    }
   ],
   "source": [
    "# Distributions are simmilar\n",
    "display(DonaldTweets['ADJcnt'].value_counts().plot.bar())"
   ]
  },
  {
   "cell_type": "code",
   "execution_count": 114,
   "metadata": {},
   "outputs": [
    {
     "data": {
      "text/plain": [
       "<matplotlib.axes._subplots.AxesSubplot at 0x1dffb270>"
      ]
     },
     "metadata": {},
     "output_type": "display_data"
    },
    {
     "data": {
      "image/png": "[encoded data removed]",
      "text/plain": [
       "<Figure size 432x288 with 1 Axes>"
      ]
     },
     "metadata": {
      "needs_background": "light"
     },
     "output_type": "display_data"
    }
   ],
   "source": [
    "display(HillaryTweets['ADJcnt'].value_counts().plot.bar())"
   ]
  },
  {
   "cell_type": "code",
   "execution_count": null,
   "metadata": {},
   "outputs": [],
   "source": []
  },
  {
   "cell_type": "code",
   "execution_count": 115,
   "metadata": {},
   "outputs": [],
   "source": []
  },
  {
   "cell_type": "code",
   "execution_count": null,
   "metadata": {},
   "outputs": [],
   "source": []
  },
  {
   "cell_type": "code",
   "execution_count": null,
   "metadata": {},
   "outputs": [],
   "source": []
  },
  {
   "cell_type": "code",
   "execution_count": null,
   "metadata": {},
   "outputs": [],
   "source": []
  },
  {
   "cell_type": "code",
   "execution_count": null,
   "metadata": {},
   "outputs": [],
   "source": []
  },
  {
   "cell_type": "code",
   "execution_count": null,
   "metadata": {},
   "outputs": [],
   "source": []
  },
  {
   "cell_type": "code",
   "execution_count": null,
   "metadata": {},
   "outputs": [],
   "source": []
  },
  {
   "cell_type": "code",
   "execution_count": null,
   "metadata": {},
   "outputs": [],
   "source": []
  },
  {
   "cell_type": "code",
   "execution_count": null,
   "metadata": {},
   "outputs": [],
   "source": []
  }
 ],
 "metadata": {
  "kernelspec": {
   "display_name": "Python 3",
   "language": "python",
   "name": "python3"
  },
  "language_info": {
   "codemirror_mode": {
    "name": "ipython",
    "version": 3
   },
   "file_extension": ".py",
   "mimetype": "text/x-python",
   "name": "python",
   "nbconvert_exporter": "python",
   "pygments_lexer": "ipython3",
   "version": "3.7.0"
  }
 },
 "nbformat": 4,
 "nbformat_minor": 2
}
